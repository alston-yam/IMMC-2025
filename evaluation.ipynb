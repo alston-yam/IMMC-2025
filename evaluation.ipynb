{
 "cells": [
  {
   "cell_type": "code",
   "execution_count": 230,
   "id": "bbf806a8",
   "metadata": {},
   "outputs": [],
   "source": [
    "names = [\n",
    "    \"Brazil\",\n",
    "    \"Spain\",\n",
    "    \"France\",\n",
    "    \"Argentina\",\n",
    "    \"Uruguay\",\n",
    "    \"Colombia\",\n",
    "    \"United Kingdom\",\n",
    "    \"Paraguay\",\n",
    "    \"Germany\",\n",
    "    \"Ecuador\",\n",
    "    \"Portugal\",\n",
    "    \"Italy\",\n",
    "    \"Morocco\",\n",
    "    \"Egypt\",\n",
    "    \"South Korea\",\n",
    "    \"Japan\",\n",
    "    \"Mexico\",\n",
    "    \"Costa Rica\",\n",
    "    \"New Zealand\",\n",
    "    \"Australia\",\n",
    "]\n",
    "\n",
    "elo_ratings = [\n",
    "    1994,\n",
    "    2150,\n",
    "    2031,\n",
    "    2140,\n",
    "    1922,\n",
    "    1953,\n",
    "    2012,\n",
    "    1799,\n",
    "    1988,\n",
    "    1911,\n",
    "    1988,\n",
    "    1914,\n",
    "    1807,\n",
    "    1668,\n",
    "    1745,\n",
    "    1875,\n",
    "    1817,\n",
    "    1653,\n",
    "    1596,\n",
    "    1736,\n",
    "]\n"
   ]
  },
  {
   "cell_type": "code",
   "execution_count": 231,
   "id": "ccce3b56",
   "metadata": {},
   "outputs": [
    {
     "name": "stdout",
     "output_type": "stream",
     "text": [
      "Spain            [2150]\n",
      "Argentina        [2140]\n",
      "France           [2031]\n",
      "United Kingdom   [2012]\n",
      "Brazil           [1994]\n",
      "Germany          [1988]\n",
      "Portugal         [1988]\n",
      "Colombia         [1953]\n",
      "Uruguay          [1922]\n",
      "Italy            [1914]\n",
      "Ecuador          [1911]\n",
      "Japan            [1875]\n",
      "Mexico           [1817]\n",
      "Morocco          [1807]\n",
      "Paraguay         [1799]\n",
      "South Korea      [1745]\n",
      "Australia        [1736]\n",
      "Egypt            [1668]\n",
      "Costa Rica       [1653]\n",
      "New Zealand      [1596]\n"
     ]
    }
   ],
   "source": [
    "countries_elo = dict(zip(names, elo_ratings))\n",
    "def get_elo(name):\n",
    "    return countries_elo[name]\n",
    "\n",
    "countries_ranked = sorted(names, key=get_elo, reverse=True)\n",
    "for country in countries_ranked:\n",
    "    print(f\"{country:16} [{get_elo(country)}]\")"
   ]
  },
  {
   "cell_type": "markdown",
   "id": "0f34ac53",
   "metadata": {},
   "source": [
    "$$P(A \\text{ beats } B) = 1 + 10^{\\frac{1}{400} {(R_B - R_A)}}$$"
   ]
  },
  {
   "cell_type": "code",
   "execution_count": 232,
   "id": "bfffdbcb",
   "metadata": {},
   "outputs": [],
   "source": [
    "def win_rate(country1, country2):\n",
    "    return 1 / (1 + 10 ** ((get_elo(country2) - get_elo(country1)) / 400))"
   ]
  },
  {
   "cell_type": "markdown",
   "id": "45287a20",
   "metadata": {},
   "source": [
    "To evaluate good a particular ranking is, we create a loss score that is based on the number of inversions in the ranking. That is the number of pairs of teams A and B which are in the wrong order. \n",
    "\n",
    "We then weigh the inversions to account for the following:\n",
    "1. Pairs of teams which are close in elo are expected to be swapped more often than pairs of teams which are far apart.\n",
    "    - The probability that a team A beats team B is given by the formula: $$P(A \\text{ beats } B) = 1 + 10^{\\frac{1}{400} {(R_B - R_A)}}$$ \n",
    "    - Which means that this is the probability that team $A$ is actually better than $B$.\n",
    "2. A large difference between a teams expected and actual ranking is extremely significant if the team itself is ranked highly, and becomes less important quickly as the team is ranked lower.\n",
    "   - We will use the formula: $W = \\frac{1}{\\ln{(i + j - 1)}}$ where $i$ and $j$ are the ranks of actual and expected ranking of the team.\n",
    "\n",
    "[source](https://www.sciencedirect.com/science/article/pii/S0305054822001022#b12)"
   ]
  },
  {
   "cell_type": "code",
   "execution_count": 233,
   "id": "4b12697f",
   "metadata": {},
   "outputs": [],
   "source": [
    "def evaluate_ranking(ranking, true_ranking):\n",
    "    \"\"\"Determines how good a ranking is.\"\"\"\n",
    "\n",
    "    loss = 0\n",
    "\n",
    "    # For each pair of countries in the ranking\n",
    "    for i, A in enumerate(names):\n",
    "        for j, B in enumerate(names):\n",
    "            if i >= j:\n",
    "                continue\n",
    "            rank_A = ranking.index(A) + 1\n",
    "            rank_B = ranking.index(B) + 1\n",
    "            true_A = true_ranking.index(A) + 1\n",
    "            true_B = true_ranking.index(B) + 1\n",
    "            if (rank_A < rank_B) == (true_A < true_B):\n",
    "                continue\n",
    "\n",
    "            W = (\n",
    "                1 / true_A\n",
    "                + 1 / true_B\n",
    "                + 1 / rank_A\n",
    "                + 1 / rank_B\n",
    "            )\n",
    "            loss += W * (1 - abs(0.5 - win_rate(A, B)))\n",
    "    return loss"
   ]
  },
  {
   "cell_type": "code",
   "execution_count": 292,
   "id": "d749be95",
   "metadata": {},
   "outputs": [
    {
     "name": "stdout",
     "output_type": "stream",
     "text": [
      "Mexico           [1817]\n",
      "Germany          [1988]\n",
      "France           [2031]\n",
      "Paraguay         [1799]\n",
      "Egypt            [1668]\n",
      "Ecuador          [1911]\n",
      "Costa Rica       [1653]\n",
      "Brazil           [1994]\n",
      "Spain            [2150]\n",
      "Portugal         [1988]\n",
      "Uruguay          [1922]\n",
      "Italy            [1914]\n",
      "South Korea      [1745]\n",
      "Argentina        [2140]\n",
      "United Kingdom   [2012]\n",
      "New Zealand      [1596]\n",
      "Morocco          [1807]\n",
      "Colombia         [1953]\n",
      "Australia        [1736]\n",
      "Japan            [1875]\n",
      "Loss: 49.286032310438245\n"
     ]
    }
   ],
   "source": [
    "import random\n",
    "fake_ranking = names.copy()\n",
    "random.shuffle(fake_ranking) \n",
    "for country in fake_ranking:\n",
    "    print(f\"{country:16} [{get_elo(country)}]\")\n",
    "\n",
    "print(\"Loss:\", evaluate_ranking(fake_ranking, countries_ranked))"
   ]
  }
 ],
 "metadata": {
  "kernelspec": {
   "display_name": "Python 3",
   "language": "python",
   "name": "python3"
  },
  "language_info": {
   "codemirror_mode": {
    "name": "ipython",
    "version": 3
   },
   "file_extension": ".py",
   "mimetype": "text/x-python",
   "name": "python",
   "nbconvert_exporter": "python",
   "pygments_lexer": "ipython3",
   "version": "3.11.1"
  }
 },
 "nbformat": 4,
 "nbformat_minor": 5
}
