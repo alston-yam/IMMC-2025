{
 "cells": [
  {
   "cell_type": "markdown",
   "id": "e8658603",
   "metadata": {},
   "source": [
    "# Initialisation"
   ]
  },
  {
   "cell_type": "code",
   "execution_count": 59,
   "id": "f16cf2fb",
   "metadata": {},
   "outputs": [],
   "source": [
    "countries = [\n",
    "    \"Brazil\",\n",
    "    \"Spain\",\n",
    "    \"France\",\n",
    "    \"Argentina\",\n",
    "    \"Uruguay\",\n",
    "    \"Colombia\",\n",
    "    \"United Kingdom\",\n",
    "    \"Paraguay\",\n",
    "    \"Germany\",\n",
    "    \"Ecuador\"\n",
    "]\n",
    "\n",
    "elo_ratings = [\n",
    "    1994,\n",
    "    2150,\n",
    "    2031,\n",
    "    2140,\n",
    "    1922,\n",
    "    1953,\n",
    "    2012,\n",
    "    1799,\n",
    "    1988,\n",
    "    1911,\n",
    "]\n",
    "\n",
    "def get_elo(name):\n",
    "    return countriesratings[name]\n",
    "\n",
    "countriesratings = {country: elo_ratings[countries.index(country)] for country in countries}\n",
    "countries_ranked = sorted(countries, key=get_elo, reverse=True)\n",
    "\n",
    "locations = [\n",
    "    (-14.2350, -51.9253),  # Brazil\n",
    "    (40.4637, -3.7492),    # Spain\n",
    "    (46.6034, 1.8883),     # France\n",
    "    (-38.4161, -63.6167),  # Argentina\n",
    "    (-32.5228, -55.7659),  # Uruguay\n",
    "    (4.5709, -74.2973),    # Colombia\n",
    "    (55.3781, -3.4360),    # United Kingdom\n",
    "    (-23.4420, -58.4438),  # Paraguay\n",
    "    (51.1657, 10.4515),    # Germany\n",
    "    (-1.8312, -78.1834),   # Ecuador\n",
    "]\n",
    "\n",
    "locationdict = {country: locations[countries.index(country)] for country in countries}"
   ]
  },
  {
   "cell_type": "markdown",
   "id": "64e4985c",
   "metadata": {},
   "source": [
    "# Distance calculation"
   ]
  },
  {
   "cell_type": "code",
   "execution_count": 60,
   "id": "f69d9257",
   "metadata": {},
   "outputs": [],
   "source": [
    "from math import radians, sin, cos, sqrt, atan2\n",
    "\n",
    "# DISTANCE CALCULATIONS\n",
    "def haversine(pos1, pos2):\n",
    "    lat1, lon1 = pos1\n",
    "    lat2, lon2 = pos2\n",
    "    # Convert degrees to radians\n",
    "    lat1, lon1, lat2, lon2 = map(radians, [lat1, lon1, lat2, lon2])\n",
    "    dlat = lat2 - lat1\n",
    "    dlon = lon2 - lon1\n",
    "    # Haversine formula\n",
    "    a = sin(dlat / 2) ** 2 + cos(lat1) * cos(lat2) * sin(dlon / 2) ** 2\n",
    "    c = 2 * atan2(sqrt(a), sqrt(1 - a))\n",
    "    R = 6371.0 # Radius of Earth in kilometers\n",
    "    return R * c # Distance in kilometers\n",
    "\n",
    "\n",
    "def estimate_flight_time(pos1, pos2, speed_kmh=900):\n",
    "    distance = haversine(pos1, pos2)\n",
    "    time_hours = distance / speed_kmh\n",
    "    return time_hours"
   ]
  },
  {
   "cell_type": "markdown",
   "id": "aabce308",
   "metadata": {},
   "source": [
    "# Schedule"
   ]
  },
  {
   "cell_type": "code",
   "execution_count": 61,
   "id": "6aa9288e",
   "metadata": {},
   "outputs": [
    {
     "name": "stdout",
     "output_type": "stream",
     "text": [
      "Tournament Schedule:\n",
      "Spain (Home) vs Germany (Away)\n",
      "Brazil (Home) vs Spain (Away)\n",
      "Paraguay (Home) vs Ecuador (Away)\n",
      "France (Home) vs Uruguay (Away)\n",
      "Argentina (Home) vs Colombia (Away)\n",
      "Colombia (Home) vs United Kingdom (Away)\n",
      "Uruguay (Home) vs Colombia (Away)\n",
      "United Kingdom (Home) vs Paraguay (Away)\n",
      "Colombia (Home) vs Paraguay (Away)\n",
      "Uruguay (Home) vs United Kingdom (Away)\n",
      "Spain (Home) vs France (Away)\n"
     ]
    }
   ],
   "source": [
    "from random import shuffle\n",
    "\n",
    "def is_valid_schedule(schedule, countriesratings):\n",
    "    home_away_count = {country: {\"Home\": 0, \"Away\": 0} for country in countries}\n",
    "    \n",
    "    for i in range(len(schedule)):\n",
    "        country1, country2 = schedule[i]\n",
    "        home_away_count[country1][\"Home\"] += 1\n",
    "        home_away_count[country2][\"Away\"] += 1\n",
    "        \n",
    "        # Check for 3 consecutive home/away games\n",
    "        if i >= 2:\n",
    "            prev1, prev2 = schedule[i - 1]\n",
    "            prev2_1, prev2_2 = schedule[i - 2]\n",
    "            if (country1 == prev1 and country1 == prev2_1) or (country2 == prev2 and country2 == prev2_2):\n",
    "                return False\n",
    "        \n",
    "        # Check for 3 consecutive games with rating difference > 250\n",
    "        if i >= 2:\n",
    "            diff1 = abs(countriesratings[schedule[i][0]] - countriesratings[schedule[i][1]])\n",
    "            diff2 = abs(countriesratings[schedule[i - 1][0]] - countriesratings[schedule[i - 1][1]])\n",
    "            diff3 = abs(countriesratings[schedule[i - 2][0]] - countriesratings[schedule[i - 2][1]])\n",
    "            if diff1 > 250 and diff2 > 250 and diff3 > 250:\n",
    "                return False\n",
    "        \n",
    "        # Ensure even number of home and away games\n",
    "        for country, counts in home_away_count.items():\n",
    "            if abs(counts[\"Home\"] - counts[\"Away\"]) > 1:\n",
    "                return False\n",
    "    \n",
    "    return True\n",
    "\n",
    "def generate_schedule(countries, countriesratings):\n",
    "    all_matches = [(c1, c2) for i, c1 in enumerate(countries) for c2 in countries[i + 1:]]\n",
    "    shuffle(all_matches)  # Randomize the order of matches\n",
    "\n",
    "    valid_schedule = []\n",
    "\n",
    "    for match in all_matches:\n",
    "        country1, country2 = match\n",
    "\n",
    "        # Ensure the schedule remains valid\n",
    "        if is_valid_schedule(valid_schedule + [match], countriesratings):\n",
    "            valid_schedule.append(match)\n",
    "\n",
    "    return valid_schedule\n",
    "\n",
    "# Generate the schedule\n",
    "tournament_schedule = generate_schedule(countries, countriesratings)\n",
    "\n",
    "# Display the matchups with home and away designation\n",
    "print(\"Tournament Schedule:\")\n",
    "for match in tournament_schedule:\n",
    "    home, away = match\n",
    "    print(f\"{home} (Home) vs {away} (Away)\")\n"
   ]
  },
  {
   "cell_type": "code",
   "execution_count": null,
   "id": "d8434a52",
   "metadata": {},
   "outputs": [],
   "source": []
  }
 ],
 "metadata": {
  "kernelspec": {
   "display_name": "base",
   "language": "python",
   "name": "python3"
  },
  "language_info": {
   "codemirror_mode": {
    "name": "ipython",
    "version": 3
   },
   "file_extension": ".py",
   "mimetype": "text/x-python",
   "name": "python",
   "nbconvert_exporter": "python",
   "pygments_lexer": "ipython3",
   "version": "3.11.5"
  }
 },
 "nbformat": 4,
 "nbformat_minor": 5
}
