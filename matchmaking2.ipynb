{
 "cells": [
  {
   "cell_type": "code",
   "execution_count": 519,
   "id": "269f3abb",
   "metadata": {},
   "outputs": [],
   "source": [
    "# Custom round robin\n",
    "\n",
    "import random\n",
    "import pandas as pd\n",
    "from itertools import combinations, chain\n",
    "\n",
    "import matplotlib.pyplot as plt\n",
    "import numpy as np\n"
   ]
  },
  {
   "cell_type": "code",
   "execution_count": 520,
   "id": "50d1bd83",
   "metadata": {},
   "outputs": [
    {
     "name": "stdout",
     "output_type": "stream",
     "text": [
      "{'Spain': 1.0, 'Argentina': 0.96875, 'France': 0.628125, 'England': 0.56875, 'Brazil': 0.5125, 'Germany': 0.49375, 'Portugal': 0.49375, 'Netherlands': 0.428125, 'Colombia': 0.384375, 'Uruguay': 0.2875, 'Italy': 0.2625, 'Croatia': 0.25625, 'Ecuador': 0.253125, 'Japan': 0.140625, 'Denmark': 0.1, 'Belgium': 0.04375, 'Serbia': 0.04375, 'Turkey': 0.021875, 'Austria': 0.021875, 'Greece': 0.0}\n"
     ]
    }
   ],
   "source": [
    "countries = [\n",
    "    \"Spain\", \"Argentina\", \"France\", \"England\", \"Brazil\", \"Germany\", \"Portugal\", \"Netherlands\",\n",
    "    \"Colombia\", \"Uruguay\", \"Italy\", \"Croatia\", \"Ecuador\", \"Japan\", \"Denmark\", \"Belgium\", \"Serbia\", \"Turkey\",\n",
    "    \"Austria\", \"Greece\"\n",
    "]\n",
    "\n",
    "pool1 = [\"Spain\", \"Argentina\", \"France\", \"England\", \"Brazil\"]\n",
    "pool2 = [\"Germany\", \"Portugal\", \"Netherlands\", \"Colombia\", \"Uruguay\"]\n",
    "pool3 = [\"Italy\", \"Croatia\", \"Ecuador\", \"Japan\", \"Denmark\"]\n",
    "pool4 = [\"Belgium\", \"Serbia\", \"Turkey\", \"Austria\", \"Greece\"]\n",
    "\n",
    "countriesrs = {\n",
    "    \"Spain\": 2150,\n",
    "    \"Argentina\": 2140,\n",
    "    \"France\": 2031,\n",
    "    \"England\": 2012,\n",
    "    \"Brazil\": 1994,\n",
    "    \"Germany\": 1988,\n",
    "    \"Portugal\": 1988,\n",
    "    \"Netherlands\": 1967,\n",
    "    \"Colombia\": 1953,\n",
    "    \"Uruguay\": 1922,\n",
    "    \"Italy\": 1914,\n",
    "    \"Croatia\": 1912,\n",
    "    \"Ecuador\": 1911,\n",
    "    \"Japan\": 1875,\n",
    "    \"Denmark\": 1862,\n",
    "    \"Belgium\": 1844,\n",
    "    \"Serbia\": 1844,\n",
    "    \"Turkey\": 1837,\n",
    "    \"Austria\": 1837,\n",
    "    \"Greece\": 1830\n",
    "}\n",
    "\n",
    "countriesratings = countriesrs\n",
    "\n",
    "for country in countriesrs.keys():\n",
    "    rating = countriesrs[country]\n",
    "    \n",
    "    countriesratings[country] = (rating - 1830)/(2150-1830)\n",
    "print(countriesratings)"
   ]
  },
  {
   "cell_type": "code",
   "execution_count": 521,
   "id": "85a626c8",
   "metadata": {},
   "outputs": [],
   "source": [
    "def simulate_match(country1, country2):\n",
    "    # Randomly generate results: win, loss, or draw\n",
    "    # result = random.choice(['win', 'loss', 'draw'])\n",
    "    \n",
    "    rating1 = countriesratings[country1]\n",
    "    rating2 = countriesratings[country2]\n",
    "    \n",
    "    percent1 = rating1 / (rating1 + rating2)\n",
    "    percent2 = rating2 / (rating1 + rating2)\n",
    "    \n",
    "    if random.random() < percent1:\n",
    "        result = 'win'\n",
    "    else:\n",
    "        result = 'loss'\n",
    "    \n",
    "    if result == 'win':\n",
    "        return country1, 3, country2, 0  # country1 wins, gets 3 points, country2 gets 0\n",
    "    elif result == 'loss':\n",
    "        return country1, 0, country2, 3  # country2 wins, gets 3 points, country1 gets 0\n",
    "    else:\n",
    "        return country1, 1, country2, 1  # Draw, both get 1 point each"
   ]
  },
  {
   "cell_type": "code",
   "execution_count": 522,
   "id": "b02adaad",
   "metadata": {},
   "outputs": [],
   "source": [
    "def init_standings(teams):\n",
    "    return {team: {'wins': 0, 'losses': 0, 'draws': 0, 'points': 0} for team in teams}"
   ]
  },
  {
   "cell_type": "code",
   "execution_count": 523,
   "id": "a7b0c478",
   "metadata": {},
   "outputs": [],
   "source": [
    "\n",
    "def round_robin(teams):\n",
    "    standings = init_standings(teams)\n",
    "    for team1, team2 in combinations(teams, 2):\n",
    "        t1, p1, t2, p2 = simulate_match(team1, team2)\n",
    "        standings[t1]['points'] += p1\n",
    "        standings[t2]['points'] += p2\n",
    "        if p1 == 3:\n",
    "            standings[t1]['wins'] += 1\n",
    "            standings[t2]['losses'] += 1\n",
    "        elif p2 == 3:\n",
    "            standings[t2]['wins'] += 1\n",
    "            standings[t1]['losses'] += 1\n",
    "        else:\n",
    "            standings[t1]['draws'] += 1\n",
    "            standings[t2]['draws'] += 1\n",
    "    return standings\n"
   ]
  },
  {
   "cell_type": "code",
   "execution_count": 524,
   "id": "9245afce",
   "metadata": {},
   "outputs": [],
   "source": [
    "\n",
    "def sort_standings(standings):\n",
    "    df = pd.DataFrame(standings).T\n",
    "    df = df.sort_values(by=['points', 'wins'], ascending=False)\n",
    "    return df"
   ]
  },
  {
   "cell_type": "code",
   "execution_count": 525,
   "id": "05b20e96",
   "metadata": {},
   "outputs": [],
   "source": [
    "\n",
    "def simulate_knockout(teams):\n",
    "    random.shuffle(teams)\n",
    "    quarter_finalists = teams\n",
    "    semi_finalists = []\n",
    "\n",
    "    # Quarterfinals\n",
    "    for i in range(0, 8, 2):\n",
    "        team1, team2 = quarter_finalists[i], quarter_finalists[i+1]\n",
    "        winner = simulate_match(team1, team2)[0 if random.random() < (countriesratings[team1] / (countriesratings[team1] + countriesratings[team2])) else 2]\n",
    "        semi_finalists.append(winner)\n",
    "\n",
    "    # Semifinals\n",
    "    finalists = []\n",
    "    for i in range(0, 4, 2):\n",
    "        team1, team2 = semi_finalists[i], semi_finalists[i+1]\n",
    "        winner = simulate_match(team1, team2)[0 if random.random() < (countriesratings[team1] / (countriesratings[team1] + countriesratings[team2])) else 2]\n",
    "        finalists.append(winner)\n",
    "\n",
    "    # Final\n",
    "    final_winner = simulate_match(finalists[0], finalists[1])[0 if random.random() < (countriesratings[team1] / (countriesratings[team1] + countriesratings[team2])) else 2]\n",
    "    \n",
    "    return {\n",
    "        \"Quarterfinalists\": quarter_finalists,\n",
    "        \"Semifinalists\": semi_finalists,\n",
    "        \"Finalists\": finalists,\n",
    "        \"Winner\": final_winner\n",
    "    }\n"
   ]
  },
  {
   "cell_type": "code",
   "execution_count": 526,
   "id": "1901dc5f",
   "metadata": {},
   "outputs": [
    {
     "name": "stdout",
     "output_type": "stream",
     "text": [
      "{'Spain': 177, 'Argentina': 185, 'France': 70, 'England': 37, 'Brazil': 35, 'Germany': 113, 'Portugal': 88, 'Netherlands': 59, 'Colombia': 39, 'Uruguay': 15, 'Italy': 60, 'Croatia': 53, 'Ecuador': 47, 'Japan': 8, 'Denmark': 2, 'Belgium': 6, 'Serbia': 6, 'Turkey': 0, 'Austria': 0, 'Greece': 0}\n"
     ]
    },
    {
     "data": {
      "image/png": "[encoded data removed]",
      "text/plain": [
       "<Figure size 640x480 with 1 Axes>"
      ]
     },
     "metadata": {},
     "output_type": "display_data"
    }
   ],
   "source": [
    "pools = {\n",
    "    i+1: countries[i*5:(i+1)*5] for i in range(4)\n",
    "}\n",
    "\n",
    "winners = {country: 0 for country in countries}\n",
    "\n",
    "for i in range(1000):\n",
    "    # Step 2: Round robin in each pool\n",
    "    pool_results = {}\n",
    "    top_2_from_each_pool = []\n",
    "    rest_teams = []\n",
    "\n",
    "    for pool_name, teams in pools.items():\n",
    "        standings = round_robin(teams)\n",
    "        pool_results[pool_name] = sort_standings(standings)\n",
    "        top_2 = list(pool_results[pool_name].index[:2])\n",
    "        rest = list(pool_results[pool_name].index[2:])\n",
    "        top_2_from_each_pool.extend(top_2)\n",
    "        rest_teams.extend(rest)\n",
    "\n",
    "    # Step 3: Knockout Stage\n",
    "    knockout_results = simulate_knockout(top_2_from_each_pool)\n",
    "\n",
    "    # Step 4: Consolation Round Robin for remaining 12 teams\n",
    "    consolation_standings = round_robin(rest_teams)\n",
    "    consolation_df = sort_standings(consolation_standings)\n",
    "\n",
    "    # Step 5: Display Results\n",
    "    # Pool Results\n",
    "    # for pool_name, df in pool_results.items():\n",
    "    #     print(f\"\\n{pool_name} Standings:\\n\", df)\n",
    "\n",
    "    # # Knockout\n",
    "    # print(\"\\nKnockout Results:\")\n",
    "    # for stage, teams in knockout_results.items():\n",
    "    #     print(f\"{stage}: {teams}\")\n",
    "\n",
    "    # # Consolation League Standings\n",
    "    # print(\"\\nConsolation League Standings:\")\n",
    "    # print(consolation_df)\n",
    "    \n",
    "    winners[knockout_results['Winner']] += 1\n",
    "\n",
    "print(winners)\n",
    "\n",
    "names = list(winners.keys())\n",
    "values = list(winners.values())\n",
    "\n",
    "plt.bar(names, values)\n",
    "plt.xticks(rotation=45, ha='right')  # Rotate x-axis labels and align them to the right for better visibility\n",
    "plt.tight_layout()  # Adjust layout to prevent clipping of labels\n",
    "plt.show()"
   ]
  },
  {
   "cell_type": "code",
   "execution_count": null,
   "id": "655ccce7",
   "metadata": {},
   "outputs": [],
   "source": []
  }
 ],
 "metadata": {
  "kernelspec": {
   "display_name": "base",
   "language": "python",
   "name": "python3"
  },
  "language_info": {
   "codemirror_mode": {
    "name": "ipython",
    "version": 3
   },
   "file_extension": ".py",
   "mimetype": "text/x-python",
   "name": "python",
   "nbconvert_exporter": "python",
   "pygments_lexer": "ipython3",
   "version": "3.11.5"
  }
 },
 "nbformat": 4,
 "nbformat_minor": 5
}
